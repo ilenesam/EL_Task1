{
  "nbformat": 4,
  "nbformat_minor": 0,
  "metadata": {
    "colab": {
      "provenance": [],
      "authorship_tag": "ABX9TyO09xYkVUAwaq+jq5haysUC",
      "include_colab_link": true
    },
    "kernelspec": {
      "name": "python3",
      "display_name": "Python 3"
    },
    "language_info": {
      "name": "python"
    }
  },
  "cells": [
    {
      "cell_type": "markdown",
      "metadata": {
        "id": "view-in-github",
        "colab_type": "text"
      },
      "source": [
        "<a href=\"https://colab.research.google.com/github/ilenesam/EL_Task1/blob/main/Mall_Cust_Data_Cleaning.ipynb\" target=\"_parent\"><img src=\"https://colab.research.google.com/assets/colab-badge.svg\" alt=\"Open In Colab\"/></a>"
      ]
    },
    {
      "cell_type": "code",
      "execution_count": 1,
      "metadata": {
        "colab": {
          "base_uri": "https://localhost:8080/"
        },
        "id": "k4Z9ezyoE1yl",
        "outputId": "8a2405c0-61fd-40b1-af8f-4ec9883b1087"
      },
      "outputs": [
        {
          "output_type": "stream",
          "name": "stdout",
          "text": [
            "   CustomerID  Gender  Age  Annual Income (k$)  Spending Score (1-100)\n",
            "0           1    Male   19                  15                      39\n",
            "1           2    Male   21                  15                      81\n",
            "2           3  Female   20                  16                       6\n",
            "3           4  Female   23                  16                      77\n",
            "4           5  Female   31                  17                      40\n"
          ]
        }
      ],
      "source": [
        "# Step:1 Load and read the Dataset\n",
        "\n",
        "import pandas as pd\n",
        "\n",
        "df=pd.read_csv(\"Mall_Customers.csv\")\n",
        "print(df.head())"
      ]
    },
    {
      "cell_type": "code",
      "source": [
        "# Step 2: Checking the info\n",
        "df.info()"
      ],
      "metadata": {
        "colab": {
          "base_uri": "https://localhost:8080/"
        },
        "id": "xMqDhObtHUth",
        "outputId": "7b42a7c0-572d-4590-ab4a-dbc553f9fcbf"
      },
      "execution_count": 2,
      "outputs": [
        {
          "output_type": "stream",
          "name": "stdout",
          "text": [
            "<class 'pandas.core.frame.DataFrame'>\n",
            "RangeIndex: 200 entries, 0 to 199\n",
            "Data columns (total 5 columns):\n",
            " #   Column                  Non-Null Count  Dtype \n",
            "---  ------                  --------------  ----- \n",
            " 0   CustomerID              200 non-null    int64 \n",
            " 1   Gender                  200 non-null    object\n",
            " 2   Age                     200 non-null    int64 \n",
            " 3   Annual Income (k$)      200 non-null    int64 \n",
            " 4   Spending Score (1-100)  200 non-null    int64 \n",
            "dtypes: int64(4), object(1)\n",
            "memory usage: 7.9+ KB\n"
          ]
        }
      ]
    },
    {
      "cell_type": "code",
      "source": [
        "#Step 3: To find missing values\n",
        "df.isnull().sum()"
      ],
      "metadata": {
        "colab": {
          "base_uri": "https://localhost:8080/",
          "height": 241
        },
        "id": "WAJ71wh5HmFM",
        "outputId": "09368966-1433-4720-f283-cf1443cfcc17"
      },
      "execution_count": 3,
      "outputs": [
        {
          "output_type": "execute_result",
          "data": {
            "text/plain": [
              "CustomerID                0\n",
              "Gender                    0\n",
              "Age                       0\n",
              "Annual Income (k$)        0\n",
              "Spending Score (1-100)    0\n",
              "dtype: int64"
            ],
            "text/html": [
              "<div>\n",
              "<style scoped>\n",
              "    .dataframe tbody tr th:only-of-type {\n",
              "        vertical-align: middle;\n",
              "    }\n",
              "\n",
              "    .dataframe tbody tr th {\n",
              "        vertical-align: top;\n",
              "    }\n",
              "\n",
              "    .dataframe thead th {\n",
              "        text-align: right;\n",
              "    }\n",
              "</style>\n",
              "<table border=\"1\" class=\"dataframe\">\n",
              "  <thead>\n",
              "    <tr style=\"text-align: right;\">\n",
              "      <th></th>\n",
              "      <th>0</th>\n",
              "    </tr>\n",
              "  </thead>\n",
              "  <tbody>\n",
              "    <tr>\n",
              "      <th>CustomerID</th>\n",
              "      <td>0</td>\n",
              "    </tr>\n",
              "    <tr>\n",
              "      <th>Gender</th>\n",
              "      <td>0</td>\n",
              "    </tr>\n",
              "    <tr>\n",
              "      <th>Age</th>\n",
              "      <td>0</td>\n",
              "    </tr>\n",
              "    <tr>\n",
              "      <th>Annual Income (k$)</th>\n",
              "      <td>0</td>\n",
              "    </tr>\n",
              "    <tr>\n",
              "      <th>Spending Score (1-100)</th>\n",
              "      <td>0</td>\n",
              "    </tr>\n",
              "  </tbody>\n",
              "</table>\n",
              "</div><br><label><b>dtype:</b> int64</label>"
            ]
          },
          "metadata": {},
          "execution_count": 3
        }
      ]
    },
    {
      "cell_type": "code",
      "source": [
        "#Step 4\n",
        "df=df.drop_duplicates()"
      ],
      "metadata": {
        "id": "xHroTozsIknY"
      },
      "execution_count": 4,
      "outputs": []
    },
    {
      "cell_type": "code",
      "source": [
        "# step 5: Correct the text values\n",
        "\n",
        "df['Gender']=df['Gender'].str.lower()"
      ],
      "metadata": {
        "id": "qkR93PghJKXI"
      },
      "execution_count": 5,
      "outputs": []
    },
    {
      "cell_type": "code",
      "source": [
        "#step 6: Rename Coulmn Name\n",
        "df.columns=df.columns.str.lower().str.replace('','_')"
      ],
      "metadata": {
        "id": "aZJ4BOI0Jkbf"
      },
      "execution_count": 6,
      "outputs": []
    },
    {
      "cell_type": "code",
      "source": [
        "#step 7:Check data type\n",
        "\n",
        "df.dtypes"
      ],
      "metadata": {
        "colab": {
          "base_uri": "https://localhost:8080/",
          "height": 241
        },
        "id": "nTvNcTPXJ7K7",
        "outputId": "45b80d3c-63cd-480a-a97f-ae9b896ec5d6"
      },
      "execution_count": 7,
      "outputs": [
        {
          "output_type": "execute_result",
          "data": {
            "text/plain": [
              "_c_u_s_t_o_m_e_r_i_d_                             int64\n",
              "_g_e_n_d_e_r_                                    object\n",
              "_a_g_e_                                           int64\n",
              "_a_n_n_u_a_l_ _i_n_c_o_m_e_ _(_k_$_)_             int64\n",
              "_s_p_e_n_d_i_n_g_ _s_c_o_r_e_ _(_1_-_1_0_0_)_     int64\n",
              "dtype: object"
            ],
            "text/html": [
              "<div>\n",
              "<style scoped>\n",
              "    .dataframe tbody tr th:only-of-type {\n",
              "        vertical-align: middle;\n",
              "    }\n",
              "\n",
              "    .dataframe tbody tr th {\n",
              "        vertical-align: top;\n",
              "    }\n",
              "\n",
              "    .dataframe thead th {\n",
              "        text-align: right;\n",
              "    }\n",
              "</style>\n",
              "<table border=\"1\" class=\"dataframe\">\n",
              "  <thead>\n",
              "    <tr style=\"text-align: right;\">\n",
              "      <th></th>\n",
              "      <th>0</th>\n",
              "    </tr>\n",
              "  </thead>\n",
              "  <tbody>\n",
              "    <tr>\n",
              "      <th>_c_u_s_t_o_m_e_r_i_d_</th>\n",
              "      <td>int64</td>\n",
              "    </tr>\n",
              "    <tr>\n",
              "      <th>_g_e_n_d_e_r_</th>\n",
              "      <td>object</td>\n",
              "    </tr>\n",
              "    <tr>\n",
              "      <th>_a_g_e_</th>\n",
              "      <td>int64</td>\n",
              "    </tr>\n",
              "    <tr>\n",
              "      <th>_a_n_n_u_a_l_ _i_n_c_o_m_e_ _(_k_$_)_</th>\n",
              "      <td>int64</td>\n",
              "    </tr>\n",
              "    <tr>\n",
              "      <th>_s_p_e_n_d_i_n_g_ _s_c_o_r_e_ _(_1_-_1_0_0_)_</th>\n",
              "      <td>int64</td>\n",
              "    </tr>\n",
              "  </tbody>\n",
              "</table>\n",
              "</div><br><label><b>dtype:</b> object</label>"
            ]
          },
          "metadata": {},
          "execution_count": 7
        }
      ]
    },
    {
      "cell_type": "code",
      "source": [
        "print(df.columns)\n",
        "\n",
        "\n"
      ],
      "metadata": {
        "colab": {
          "base_uri": "https://localhost:8080/"
        },
        "id": "hJ2DfWYlLyvE",
        "outputId": "219c665f-329d-46f0-d8b9-213275eb6feb"
      },
      "execution_count": 11,
      "outputs": [
        {
          "output_type": "stream",
          "name": "stdout",
          "text": [
            "Index(['_c_u_s_t_o_m_e_r_i_d_', '_g_e_n_d_e_r_', '_a_g_e_',\n",
            "       '_a_n_n_u_a_l_ _i_n_c_o_m_e_ _(_k_$_)_',\n",
            "       '_s_p_e_n_d_i_n_g_ _s_c_o_r_e_ _(_1_-_1_0_0_)_'],\n",
            "      dtype='object')\n"
          ]
        }
      ]
    },
    {
      "cell_type": "code",
      "source": [
        "df.rename(columns={\n",
        "    '_c_u_s_t_o_m_e_r_i_d_': 'CustomerID',\n",
        "    '_g_e_n_d_e_r_': 'Gender',\n",
        "    '_a_g_e_': 'Age',\n",
        "    '_a_n_n_u_a_l_ _i_n_c_o_m_e_ _(_k_$_)_': 'AnnualIncome',\n",
        "    '_s_p_e_n_d_i_n_g_ _s_c_o_r_e_ _(_1_-_1_0_0_)_': 'SpendingScore'\n",
        "}, inplace=True)\n",
        "\n"
      ],
      "metadata": {
        "id": "CkwCPsz6Uslo"
      },
      "execution_count": 14,
      "outputs": []
    },
    {
      "cell_type": "code",
      "source": [
        "print(df.head())\n",
        "print(df.describe())\n"
      ],
      "metadata": {
        "colab": {
          "base_uri": "https://localhost:8080/"
        },
        "id": "7rdZx2cDVkB6",
        "outputId": "efc61b41-444b-4466-b206-6b7314af5941"
      },
      "execution_count": 16,
      "outputs": [
        {
          "output_type": "stream",
          "name": "stdout",
          "text": [
            "   CustomerID  Gender  Age  AnnualIncome  SpendingScore\n",
            "0           1     NaN   19            15             39\n",
            "1           2     NaN   21            15             81\n",
            "2           3     NaN   20            16              6\n",
            "3           4     NaN   23            16             77\n",
            "4           5     NaN   31            17             40\n",
            "       CustomerID  Gender         Age  AnnualIncome  SpendingScore\n",
            "count  200.000000     0.0  200.000000    200.000000     200.000000\n",
            "mean   100.500000     NaN   38.850000     60.560000      50.200000\n",
            "std     57.879185     NaN   13.969007     26.264721      25.823522\n",
            "min      1.000000     NaN   18.000000     15.000000       1.000000\n",
            "25%     50.750000     NaN   28.750000     41.500000      34.750000\n",
            "50%    100.500000     NaN   36.000000     61.500000      50.000000\n",
            "75%    150.250000     NaN   49.000000     78.000000      73.000000\n",
            "max    200.000000     NaN   70.000000    137.000000      99.000000\n"
          ]
        }
      ]
    },
    {
      "cell_type": "code",
      "source": [
        "\n",
        "# Reloading the dataset\n",
        "import pandas as pd\n",
        "\n",
        "# Try specifying encoding if needed\n",
        "df = pd.read_csv('Mall_Customers.csv', encoding='utf-8')\n",
        "\n",
        "# Check the first few rows\n",
        "print(df.head())\n"
      ],
      "metadata": {
        "colab": {
          "base_uri": "https://localhost:8080/"
        },
        "id": "FMfQy_MjWgVF",
        "outputId": "e272c169-b9ca-48f4-ba5e-a7d190ae48ce"
      },
      "execution_count": 17,
      "outputs": [
        {
          "output_type": "stream",
          "name": "stdout",
          "text": [
            "   CustomerID  Gender  Age  Annual Income (k$)  Spending Score (1-100)\n",
            "0           1    Male   19                  15                      39\n",
            "1           2    Male   21                  15                      81\n",
            "2           3  Female   20                  16                       6\n",
            "3           4  Female   23                  16                      77\n",
            "4           5  Female   31                  17                      40\n"
          ]
        }
      ]
    },
    {
      "cell_type": "code",
      "source": [
        "print(df.columns)\n"
      ],
      "metadata": {
        "colab": {
          "base_uri": "https://localhost:8080/"
        },
        "id": "HZWYfUwkWyq-",
        "outputId": "2e64ad4e-febf-402d-850c-bb8b838bff8d"
      },
      "execution_count": 18,
      "outputs": [
        {
          "output_type": "stream",
          "name": "stdout",
          "text": [
            "Index(['CustomerID', 'Gender', 'Age', 'Annual Income (k$)',\n",
            "       'Spending Score (1-100)'],\n",
            "      dtype='object')\n"
          ]
        }
      ]
    },
    {
      "cell_type": "code",
      "source": [
        "df['Gender'] = df['Gender'].map({'Male': 0, 'Female': 1})\n"
      ],
      "metadata": {
        "id": "osetwGvpW_-E"
      },
      "execution_count": 19,
      "outputs": []
    },
    {
      "cell_type": "code",
      "source": [
        "print(df.head())\n",
        "print(df.describe())"
      ],
      "metadata": {
        "colab": {
          "base_uri": "https://localhost:8080/"
        },
        "id": "r9tg1OQQXDJc",
        "outputId": "7f97972b-14e1-4011-87cb-c00aaeeb8f4d"
      },
      "execution_count": 20,
      "outputs": [
        {
          "output_type": "stream",
          "name": "stdout",
          "text": [
            "   CustomerID  Gender  Age  Annual Income (k$)  Spending Score (1-100)\n",
            "0           1       0   19                  15                      39\n",
            "1           2       0   21                  15                      81\n",
            "2           3       1   20                  16                       6\n",
            "3           4       1   23                  16                      77\n",
            "4           5       1   31                  17                      40\n",
            "       CustomerID      Gender         Age  Annual Income (k$)  \\\n",
            "count  200.000000  200.000000  200.000000          200.000000   \n",
            "mean   100.500000    0.560000   38.850000           60.560000   \n",
            "std     57.879185    0.497633   13.969007           26.264721   \n",
            "min      1.000000    0.000000   18.000000           15.000000   \n",
            "25%     50.750000    0.000000   28.750000           41.500000   \n",
            "50%    100.500000    1.000000   36.000000           61.500000   \n",
            "75%    150.250000    1.000000   49.000000           78.000000   \n",
            "max    200.000000    1.000000   70.000000          137.000000   \n",
            "\n",
            "       Spending Score (1-100)  \n",
            "count              200.000000  \n",
            "mean                50.200000  \n",
            "std                 25.823522  \n",
            "min                  1.000000  \n",
            "25%                 34.750000  \n",
            "50%                 50.000000  \n",
            "75%                 73.000000  \n",
            "max                 99.000000  \n"
          ]
        }
      ]
    },
    {
      "cell_type": "code",
      "source": [
        "df['Gender'] = df['Gender'].replace({0: 'Male', 1: 'Female'})\n"
      ],
      "metadata": {
        "id": "B0PivHLqYQLK"
      },
      "execution_count": 24,
      "outputs": []
    },
    {
      "cell_type": "code",
      "source": [
        "print(df['Gender'].unique())\n"
      ],
      "metadata": {
        "colab": {
          "base_uri": "https://localhost:8080/"
        },
        "id": "tiAvKK92ZQ_8",
        "outputId": "7346c35f-5280-4f5b-b67b-72eed56baca3"
      },
      "execution_count": 25,
      "outputs": [
        {
          "output_type": "stream",
          "name": "stdout",
          "text": [
            "['Male' 'Female']\n"
          ]
        }
      ]
    },
    {
      "cell_type": "code",
      "source": [
        "print(df)\n"
      ],
      "metadata": {
        "colab": {
          "base_uri": "https://localhost:8080/"
        },
        "id": "fiTR1cdwZS_-",
        "outputId": "ea7247ea-b0d2-40f3-8637-3483901efc6e"
      },
      "execution_count": 26,
      "outputs": [
        {
          "output_type": "stream",
          "name": "stdout",
          "text": [
            "     CustomerID  Gender  Age  Annual Income (k$)  Spending Score (1-100)\n",
            "0             1    Male   19                  15                      39\n",
            "1             2    Male   21                  15                      81\n",
            "2             3  Female   20                  16                       6\n",
            "3             4  Female   23                  16                      77\n",
            "4             5  Female   31                  17                      40\n",
            "..          ...     ...  ...                 ...                     ...\n",
            "195         196  Female   35                 120                      79\n",
            "196         197  Female   45                 126                      28\n",
            "197         198    Male   32                 126                      74\n",
            "198         199    Male   32                 137                      18\n",
            "199         200    Male   30                 137                      83\n",
            "\n",
            "[200 rows x 5 columns]\n"
          ]
        }
      ]
    },
    {
      "cell_type": "code",
      "source": [
        "# Check for missing values\n",
        "print(df.isnull().sum())\n",
        "\n",
        "# Check for duplicates\n",
        "print(df.duplicated().sum())\n",
        "\n",
        "# Check data types\n",
        "print(df.dtypes)\n",
        "\n",
        "# Quick look at statistics\n",
        "print(df.describe())\n"
      ],
      "metadata": {
        "colab": {
          "base_uri": "https://localhost:8080/"
        },
        "id": "XSZZPkWoaADI",
        "outputId": "aafe0af8-6fdf-41bd-e474-91345dccbb9b"
      },
      "execution_count": 27,
      "outputs": [
        {
          "output_type": "stream",
          "name": "stdout",
          "text": [
            "CustomerID                0\n",
            "Gender                    0\n",
            "Age                       0\n",
            "Annual Income (k$)        0\n",
            "Spending Score (1-100)    0\n",
            "dtype: int64\n",
            "0\n",
            "CustomerID                 int64\n",
            "Gender                    object\n",
            "Age                        int64\n",
            "Annual Income (k$)         int64\n",
            "Spending Score (1-100)     int64\n",
            "dtype: object\n",
            "       CustomerID         Age  Annual Income (k$)  Spending Score (1-100)\n",
            "count  200.000000  200.000000          200.000000              200.000000\n",
            "mean   100.500000   38.850000           60.560000               50.200000\n",
            "std     57.879185   13.969007           26.264721               25.823522\n",
            "min      1.000000   18.000000           15.000000                1.000000\n",
            "25%     50.750000   28.750000           41.500000               34.750000\n",
            "50%    100.500000   36.000000           61.500000               50.000000\n",
            "75%    150.250000   49.000000           78.000000               73.000000\n",
            "max    200.000000   70.000000          137.000000               99.000000\n"
          ]
        }
      ]
    }
  ]
}